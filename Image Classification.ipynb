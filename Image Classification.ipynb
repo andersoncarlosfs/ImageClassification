{
 "cells": [
  {
   "cell_type": "markdown",
   "metadata": {},
   "source": [
    "# Creating a SparkContext"
   ]
  },
  {
   "cell_type": "code",
   "execution_count": 1,
   "metadata": {},
   "outputs": [],
   "source": [
    "from pyspark import SparkConf\n",
    "from pyspark import SparkContext"
   ]
  },
  {
   "cell_type": "code",
   "execution_count": 2,
   "metadata": {},
   "outputs": [],
   "source": [
    "conf = SparkConf()\n",
    "\n",
    "conf.setAppName('miniconda-pyspark')\n",
    "\n",
    "sc = SparkContext(conf = conf)"
   ]
  },
  {
   "cell_type": "markdown",
   "metadata": {},
   "source": [
    "# Creating a SQLContext"
   ]
  },
  {
   "cell_type": "code",
   "execution_count": 3,
   "metadata": {},
   "outputs": [],
   "source": [
    "from pyspark.sql import SQLContext"
   ]
  },
  {
   "cell_type": "code",
   "execution_count": 4,
   "metadata": {},
   "outputs": [],
   "source": [
    "sqlContext = SQLContext(sc)"
   ]
  },
  {
   "cell_type": "markdown",
   "metadata": {},
   "source": [
    "# Data cleaning"
   ]
  },
  {
   "cell_type": "markdown",
   "metadata": {},
   "source": [
    "## Declaring functions"
   ]
  },
  {
   "cell_type": "code",
   "execution_count": 5,
   "metadata": {},
   "outputs": [],
   "source": [
    "import re"
   ]
  },
  {
   "cell_type": "code",
   "execution_count": 6,
   "metadata": {},
   "outputs": [],
   "source": [
    "def getName(text):\n",
    "    return re.search('([^\\/])+(?=\\_(\\d+).+)', text).group()"
   ]
  },
  {
   "cell_type": "markdown",
   "metadata": {},
   "source": [
    "## Reading JSON"
   ]
  },
  {
   "cell_type": "code",
   "execution_count": 7,
   "metadata": {},
   "outputs": [],
   "source": [
    "from __future__ import print_function"
   ]
  },
  {
   "cell_type": "code",
   "execution_count": 8,
   "metadata": {},
   "outputs": [],
   "source": [
    "# [(x, y)]\n",
    "# x -> path (/directory/filename.extension)\n",
    "# y -> content ('[values]\\n')\n",
    "# [(path, content)]\n",
    "rdd = sc.wholeTextFiles('json') "
   ]
  },
  {
   "cell_type": "markdown",
   "metadata": {},
   "source": [
    "## Transforming RDD"
   ]
  },
  {
   "cell_type": "code",
   "execution_count": 9,
   "metadata": {},
   "outputs": [],
   "source": [
    "# removing brackets \n",
    "# [(x, y)]\n",
    "# x -> path (/directory/filename.extension)\n",
    "# y -> content ('values')\n",
    "# [(path, content)]\n",
    "rdd = rdd.map(lambda x: (x[0], x[1][1:-2])) "
   ]
  },
  {
   "cell_type": "code",
   "execution_count": 10,
   "metadata": {},
   "outputs": [],
   "source": [
    "# converting string to array of strings\n",
    "# [(x, [y])]\n",
    "# x -> path (/directory/filename.extension)\n",
    "# y -> image_values ([string])\n",
    "# [(path, image_values)]\n",
    "rdd = rdd.map(lambda x: (x[0], x[1].split(','))) "
   ]
  },
  {
   "cell_type": "code",
   "execution_count": 11,
   "metadata": {},
   "outputs": [],
   "source": [
    "# converting string to float \n",
    "# [(x, [y])]\n",
    "# x -> path (/directory/filename.extension)\n",
    "# y -> image_values ([float])\n",
    "# [(path, image_values)]\n",
    "rdd = rdd.map(lambda x: (x[0], [float(y.strip()) for y in x[1]])) "
   ]
  },
  {
   "cell_type": "code",
   "execution_count": 12,
   "metadata": {},
   "outputs": [],
   "source": [
    "# get filename as label\n",
    "# [(x, [[y]])]\n",
    "# x -> filename (filename)\n",
    "# y -> image_values ([[float]])\n",
    "# [(filename, image_values)]\n",
    "rdd = rdd.map(lambda x: (getName(x[0]), [x[1]]))"
   ]
  },
  {
   "cell_type": "code",
   "execution_count": 13,
   "metadata": {},
   "outputs": [],
   "source": [
    "# creating classes\n",
    "# [(x, [y])]\n",
    "# x -> filename (filename)\n",
    "# y -> image_values_set ([[float]])\n",
    "# [(filename, image_values_set)]\n",
    "rdd = rdd.reduceByKey(lambda x, y: x + y) "
   ]
  },
  {
   "cell_type": "code",
   "execution_count": 14,
   "metadata": {},
   "outputs": [],
   "source": [
    "# adding index\n",
    "# [((w, x), [y])]\n",
    "# w -> index\n",
    "# x -> filename (filename)\n",
    "# y -> image_values_set ([[float]])\n",
    "# [((index, filename), image_values_set)]\n",
    "rdd = rdd.zipWithIndex().map(lambda x: ((x[1], x[0][0]), x[0][1])) "
   ]
  },
  {
   "cell_type": "code",
   "execution_count": 15,
   "metadata": {},
   "outputs": [],
   "source": [
    "# splitting data into training and test set\n",
    "# [((w, x), ([y], [z]))]\n",
    "# w -> index\n",
    "# x -> filename (filename)\n",
    "# y -> train_set ([float])\n",
    "# z -> test_set ([float])\n",
    "# [((index, filename), (train_set, test_set))]  \n",
    "rdd = rdd.map(lambda x: (x[0], (x[1][0:100], x[1][100:])))"
   ]
  },
  {
   "cell_type": "markdown",
   "metadata": {},
   "source": [
    "# Binary classification"
   ]
  },
  {
   "cell_type": "markdown",
   "metadata": {},
   "source": [
    "## Training model"
   ]
  },
  {
   "cell_type": "code",
   "execution_count": 16,
   "metadata": {},
   "outputs": [],
   "source": [
    "from pyspark.mllib.regression import LabeledPoint\n",
    "from pyspark.mllib.classification import SVMWithSGD"
   ]
  },
  {
   "cell_type": "code",
   "execution_count": 17,
   "metadata": {},
   "outputs": [],
   "source": [
    "rdd_training = rdd.map(lambda x: (int(bool(x[0][0])), x[1][1])) # selecting training set"
   ]
  },
  {
   "cell_type": "code",
   "execution_count": 18,
   "metadata": {},
   "outputs": [],
   "source": [
    "rdd_training = rdd_training.flatMap(lambda x: [(x[0], y) for y in x[1]])"
   ]
  },
  {
   "cell_type": "code",
   "execution_count": 19,
   "metadata": {},
   "outputs": [],
   "source": [
    "rdd_training = rdd_training.map(lambda x: LabeledPoint(int(bool(x[0])), x[1])) # creating training set"
   ]
  },
  {
   "cell_type": "code",
   "execution_count": 20,
   "metadata": {},
   "outputs": [],
   "source": [
    "#rdd_training.collect()"
   ]
  },
  {
   "cell_type": "code",
   "execution_count": 21,
   "metadata": {},
   "outputs": [],
   "source": [
    "model = SVMWithSGD.train(rdd_training) # creating model"
   ]
  },
  {
   "cell_type": "markdown",
   "metadata": {},
   "source": [
    "# Predicting"
   ]
  },
  {
   "cell_type": "code",
   "execution_count": 22,
   "metadata": {},
   "outputs": [],
   "source": [
    "rdd_testing = rdd.map(lambda x: (x[1][1], (int(bool(x[0][0])), x[0][0], x[0][1]))) # creating testing set"
   ]
  },
  {
   "cell_type": "code",
   "execution_count": 23,
   "metadata": {},
   "outputs": [],
   "source": [
    "rdd_testing = rdd_testing.flatMap(lambda x: [(y, x[1]) for y in x[0]])"
   ]
  },
  {
   "cell_type": "code",
   "execution_count": 24,
   "metadata": {},
   "outputs": [],
   "source": [
    "rdd_testing = rdd_testing.map(lambda x: (model.predict(x[0]), x[1])) # predicting on testing set"
   ]
  },
  {
   "cell_type": "code",
   "execution_count": 25,
   "metadata": {},
   "outputs": [],
   "source": [
    "#rdd_testing.collect()"
   ]
  },
  {
   "cell_type": "markdown",
   "metadata": {},
   "source": [
    "## Confusion matrix"
   ]
  },
  {
   "cell_type": "code",
   "execution_count": 26,
   "metadata": {},
   "outputs": [],
   "source": [
    "import seaborn as sn\n",
    "import pandas as pd\n",
    "import matplotlib.pyplot as plt"
   ]
  },
  {
   "cell_type": "code",
   "execution_count": 27,
   "metadata": {},
   "outputs": [],
   "source": [
    "from sklearn.metrics import accuracy_score\n",
    "from sklearn.metrics import confusion_matrix"
   ]
  },
  {
   "cell_type": "code",
   "execution_count": 28,
   "metadata": {},
   "outputs": [],
   "source": [
    "array = rdd_testing.map(lambda x: (x[0], x[1][0], x[1][2])).collect()"
   ]
  },
  {
   "cell_type": "code",
   "execution_count": 29,
   "metadata": {},
   "outputs": [],
   "source": [
    "true_label = []\n",
    "predicted_label = []\n",
    "text_label = []\n",
    "\n",
    "columns = {}\n",
    "\n",
    "for a in array:\n",
    "    true_label.append(a[1])\n",
    "    predicted_label.append(a[0])\n",
    "    text_label.append(a[2])\n",
    "        \n",
    "    if not bool(a[1]):\n",
    "        columns[a[2]] = a[1]\n",
    "\n",
    "columns['others'] =1       \n",
    "        \n",
    "matrix = confusion_matrix(true_label, predicted_label)    "
   ]
  },
  {
   "cell_type": "code",
   "execution_count": 30,
   "metadata": {},
   "outputs": [
    {
     "data": {
      "text/plain": [
       "array([[   0,  100],\n",
       "       [  80, 3510]])"
      ]
     },
     "execution_count": 30,
     "metadata": {},
     "output_type": "execute_result"
    }
   ],
   "source": [
    "matrix"
   ]
  },
  {
   "cell_type": "code",
   "execution_count": 31,
   "metadata": {},
   "outputs": [
    {
     "data": {
      "text/plain": [
       "{'miniature_pinscher': 0, 'others': 1}"
      ]
     },
     "execution_count": 31,
     "metadata": {},
     "output_type": "execute_result"
    }
   ],
   "source": [
    "columns"
   ]
  },
  {
   "cell_type": "code",
   "execution_count": 32,
   "metadata": {},
   "outputs": [
    {
     "data": {
      "image/png": "[encoded data removed]",
      "text/plain": [
       "<Figure size 720x504 with 2 Axes>"
      ]
     },
     "metadata": {
      "needs_background": "light"
     },
     "output_type": "display_data"
    }
   ],
   "source": [
    "df = pd.DataFrame(matrix, index = columns.keys(), columns = columns.keys())\n",
    "\n",
    "plt.figure(figsize = (10,7))\n",
    "\n",
    "sn.heatmap(df, annot = True)\n",
    "\n",
    "plt.title('SVMWithSGD \\nAccuracy:{0:.3f}'.format(accuracy_score(true_label, predicted_label)))\n",
    "plt.ylabel('True label')\n",
    "plt.xlabel('Predicted label')\n",
    "plt.show()"
   ]
  },
  {
   "cell_type": "code",
   "execution_count": null,
   "metadata": {},
   "outputs": [],
   "source": []
  },
  {
   "cell_type": "code",
   "execution_count": null,
   "metadata": {},
   "outputs": [],
   "source": []
  }
 ],
 "metadata": {
  "kernelspec": {
   "display_name": "Python 3",
   "language": "python",
   "name": "python3"
  },
  "language_info": {
   "codemirror_mode": {
    "name": "ipython",
    "version": 3
   },
   "file_extension": ".py",
   "mimetype": "text/x-python",
   "name": "python",
   "nbconvert_exporter": "python",
   "pygments_lexer": "ipython3",
   "version": "3.7.6"
  }
 },
 "nbformat": 4,
 "nbformat_minor": 4
}
